{
  "nbformat": 4,
  "nbformat_minor": 0,
  "metadata": {
    "colab": {
      "provenance": []
    },
    "kernelspec": {
      "name": "python3",
      "display_name": "Python 3"
    },
    "language_info": {
      "name": "python"
    }
  },
  "cells": [
    {
      "cell_type": "code",
      "execution_count": 1,
      "metadata": {
        "colab": {
          "base_uri": "https://localhost:8080/"
        },
        "id": "oJzO70OIYUWY",
        "outputId": "3caf51d7-664b-4e08-e383-ed60e4b8498d"
      },
      "outputs": [
        {
          "output_type": "stream",
          "name": "stdout",
          "text": [
            "Collecting sqlalchemy==1.3.9\n",
            "  Downloading SQLAlchemy-1.3.9.tar.gz (6.0 MB)\n",
            "\u001b[?25l     \u001b[90m━━━━━━━━━━━━━━━━━━━━━━━━━━━━━━━━━━━━━━━━\u001b[0m \u001b[32m0.0/6.0 MB\u001b[0m \u001b[31m?\u001b[0m eta \u001b[36m-:--:--\u001b[0m\r\u001b[2K     \u001b[91m━\u001b[0m\u001b[91m╸\u001b[0m\u001b[90m━━━━━━━━━━━━━━━━━━━━━━━━━━━━━━━━━━━━━━\u001b[0m \u001b[32m0.2/6.0 MB\u001b[0m \u001b[31m7.5 MB/s\u001b[0m eta \u001b[36m0:00:01\u001b[0m\r\u001b[2K     \u001b[91m━━━━━━━━━━━━━━\u001b[0m\u001b[90m╺\u001b[0m\u001b[90m━━━━━━━━━━━━━━━━━━━━━━━━━\u001b[0m \u001b[32m2.2/6.0 MB\u001b[0m \u001b[31m33.0 MB/s\u001b[0m eta \u001b[36m0:00:01\u001b[0m\r\u001b[2K     \u001b[91m━━━━━━━━━━━━━━━━━━━━━━━━━━━━━━━━━━━━━━━\u001b[0m\u001b[91m╸\u001b[0m \u001b[32m6.0/6.0 MB\u001b[0m \u001b[31m67.7 MB/s\u001b[0m eta \u001b[36m0:00:01\u001b[0m\r\u001b[2K     \u001b[90m━━━━━━━━━━━━━━━━━━━━━━━━━━━━━━━━━━━━━━━━\u001b[0m \u001b[32m6.0/6.0 MB\u001b[0m \u001b[31m52.4 MB/s\u001b[0m eta \u001b[36m0:00:00\u001b[0m\n",
            "\u001b[?25h  Preparing metadata (setup.py) ... \u001b[?25l\u001b[?25hdone\n",
            "Building wheels for collected packages: sqlalchemy\n",
            "  Building wheel for sqlalchemy (setup.py) ... \u001b[?25l\u001b[?25hdone\n",
            "  Created wheel for sqlalchemy: filename=SQLAlchemy-1.3.9-cp310-cp310-linux_x86_64.whl size=1207936 sha256=a596ba315da9a4db2951d517939db66b3ac02fa7595e5d9c04729c0121e8eeb6\n",
            "  Stored in directory: /root/.cache/pip/wheels/8b/6d/9c/e1793e5a2d85b89b8c362a4f0e3def54b786bcd14923b9ff00\n",
            "Successfully built sqlalchemy\n",
            "Installing collected packages: sqlalchemy\n",
            "  Attempting uninstall: sqlalchemy\n",
            "    Found existing installation: SQLAlchemy 2.0.16\n",
            "    Uninstalling SQLAlchemy-2.0.16:\n",
            "      Successfully uninstalled SQLAlchemy-2.0.16\n",
            "Successfully installed sqlalchemy-1.3.9\n"
          ]
        }
      ],
      "source": [
        "!pip install sqlalchemy==1.3.9"
      ]
    },
    {
      "cell_type": "code",
      "source": [
        "%load_ext sql"
      ],
      "metadata": {
        "id": "DkWUsKTZYoXE"
      },
      "execution_count": 2,
      "outputs": []
    },
    {
      "cell_type": "code",
      "source": [
        "import csv, sqlite3\n",
        "\n",
        "con = sqlite3.connect(\"my_data1.db\")\n",
        "cur = con.cursor()"
      ],
      "metadata": {
        "id": "bqm7OBXLYpwN"
      },
      "execution_count": 3,
      "outputs": []
    },
    {
      "cell_type": "code",
      "source": [
        "%sql sqlite:///my_data1.db"
      ],
      "metadata": {
        "id": "qWI4WFY0Yx1S"
      },
      "execution_count": 6,
      "outputs": []
    },
    {
      "cell_type": "code",
      "source": [
        "import pandas as pd\n",
        "df = pd.read_csv(\"https://cf-courses-data.s3.us.cloud-object-storage.appdomain.cloud/IBM-DS0321EN-SkillsNetwork/labs/module_2/data/Spacex.csv\")\n",
        "df.to_sql(\"SPACEXTBL\", con, if_exists='replace', index=False,method=\"multi\")"
      ],
      "metadata": {
        "colab": {
          "base_uri": "https://localhost:8080/"
        },
        "id": "ctu4i32JYq7U",
        "outputId": "598702e2-0807-4bc4-a9a5-f1f0d67e7fed"
      },
      "execution_count": 7,
      "outputs": [
        {
          "output_type": "execute_result",
          "data": {
            "text/plain": [
              "999"
            ]
          },
          "metadata": {},
          "execution_count": 7
        }
      ]
    },
    {
      "cell_type": "code",
      "source": [
        "%sql SELECT * FROM SPACEXTBL LIMIT 5"
      ],
      "metadata": {
        "colab": {
          "base_uri": "https://localhost:8080/",
          "height": 179
        },
        "id": "sAgL-guKYr8J",
        "outputId": "c2ddc46c-8fa6-4233-903b-2c659355ccdb"
      },
      "execution_count": 8,
      "outputs": [
        {
          "output_type": "stream",
          "name": "stdout",
          "text": [
            " * sqlite:///my_data1.db\n",
            "Done.\n"
          ]
        },
        {
          "output_type": "execute_result",
          "data": {
            "text/plain": [
              "[('06/04/2010', '18:45:00', 'F9 v1.0  B0003', 'CCAFS LC-40', 'Dragon Spacecraft Qualification Unit', 0.0, 'LEO', 'SpaceX', 'Success', 'Failure (parachute)'),\n",
              " ('12/08/2010', '15:43:00', 'F9 v1.0  B0004', 'CCAFS LC-40', 'Dragon demo flight C1, two CubeSats, barrel of Brouere cheese', 0.0, 'LEO (ISS)', 'NASA (COTS) NRO', 'Success', 'Failure (parachute)'),\n",
              " ('22/05/2012', '7:44:00', 'F9 v1.0  B0005', 'CCAFS LC-40', 'Dragon demo flight C2', 525.0, 'LEO (ISS)', 'NASA (COTS)', 'Success', 'No attempt'),\n",
              " ('10/08/2012', '0:35:00', 'F9 v1.0  B0006', 'CCAFS LC-40', 'SpaceX CRS-1', 500.0, 'LEO (ISS)', 'NASA (CRS)', 'Success', 'No attempt'),\n",
              " ('03/01/2013', '15:10:00', 'F9 v1.0  B0007', 'CCAFS LC-40', 'SpaceX CRS-2', 677.0, 'LEO (ISS)', 'NASA (CRS)', 'Success', 'No attempt')]"
            ],
            "text/html": [
              "<table>\n",
              "    <tr>\n",
              "        <th>Date</th>\n",
              "        <th>Time (UTC)</th>\n",
              "        <th>Booster_Version</th>\n",
              "        <th>Launch_Site</th>\n",
              "        <th>Payload</th>\n",
              "        <th>PAYLOAD_MASS__KG_</th>\n",
              "        <th>Orbit</th>\n",
              "        <th>Customer</th>\n",
              "        <th>Mission_Outcome</th>\n",
              "        <th>Landing_Outcome</th>\n",
              "    </tr>\n",
              "    <tr>\n",
              "        <td>06/04/2010</td>\n",
              "        <td>18:45:00</td>\n",
              "        <td>F9 v1.0  B0003</td>\n",
              "        <td>CCAFS LC-40</td>\n",
              "        <td>Dragon Spacecraft Qualification Unit</td>\n",
              "        <td>0.0</td>\n",
              "        <td>LEO</td>\n",
              "        <td>SpaceX</td>\n",
              "        <td>Success</td>\n",
              "        <td>Failure (parachute)</td>\n",
              "    </tr>\n",
              "    <tr>\n",
              "        <td>12/08/2010</td>\n",
              "        <td>15:43:00</td>\n",
              "        <td>F9 v1.0  B0004</td>\n",
              "        <td>CCAFS LC-40</td>\n",
              "        <td>Dragon demo flight C1, two CubeSats, barrel of Brouere cheese</td>\n",
              "        <td>0.0</td>\n",
              "        <td>LEO (ISS)</td>\n",
              "        <td>NASA (COTS) NRO</td>\n",
              "        <td>Success</td>\n",
              "        <td>Failure (parachute)</td>\n",
              "    </tr>\n",
              "    <tr>\n",
              "        <td>22/05/2012</td>\n",
              "        <td>7:44:00</td>\n",
              "        <td>F9 v1.0  B0005</td>\n",
              "        <td>CCAFS LC-40</td>\n",
              "        <td>Dragon demo flight C2</td>\n",
              "        <td>525.0</td>\n",
              "        <td>LEO (ISS)</td>\n",
              "        <td>NASA (COTS)</td>\n",
              "        <td>Success</td>\n",
              "        <td>No attempt</td>\n",
              "    </tr>\n",
              "    <tr>\n",
              "        <td>10/08/2012</td>\n",
              "        <td>0:35:00</td>\n",
              "        <td>F9 v1.0  B0006</td>\n",
              "        <td>CCAFS LC-40</td>\n",
              "        <td>SpaceX CRS-1</td>\n",
              "        <td>500.0</td>\n",
              "        <td>LEO (ISS)</td>\n",
              "        <td>NASA (CRS)</td>\n",
              "        <td>Success</td>\n",
              "        <td>No attempt</td>\n",
              "    </tr>\n",
              "    <tr>\n",
              "        <td>03/01/2013</td>\n",
              "        <td>15:10:00</td>\n",
              "        <td>F9 v1.0  B0007</td>\n",
              "        <td>CCAFS LC-40</td>\n",
              "        <td>SpaceX CRS-2</td>\n",
              "        <td>677.0</td>\n",
              "        <td>LEO (ISS)</td>\n",
              "        <td>NASA (CRS)</td>\n",
              "        <td>Success</td>\n",
              "        <td>No attempt</td>\n",
              "    </tr>\n",
              "</table>"
            ]
          },
          "metadata": {},
          "execution_count": 8
        }
      ]
    },
    {
      "cell_type": "code",
      "source": [
        "#display names of unique launch site in space mission\n",
        "\n",
        "%sql SELECT DISTINCT launch_site FROM SPACEXTBL"
      ],
      "metadata": {
        "colab": {
          "base_uri": "https://localhost:8080/",
          "height": 179
        },
        "id": "VSvpXFfuYtCF",
        "outputId": "2c995811-e10b-4e51-bf74-5deb1794c8fe"
      },
      "execution_count": 9,
      "outputs": [
        {
          "output_type": "stream",
          "name": "stdout",
          "text": [
            " * sqlite:///my_data1.db\n",
            "Done.\n"
          ]
        },
        {
          "output_type": "execute_result",
          "data": {
            "text/plain": [
              "[('CCAFS LC-40',),\n",
              " ('VAFB SLC-4E',),\n",
              " ('KSC LC-39A',),\n",
              " ('CCAFS SLC-40',),\n",
              " (None,)]"
            ],
            "text/html": [
              "<table>\n",
              "    <tr>\n",
              "        <th>Launch_Site</th>\n",
              "    </tr>\n",
              "    <tr>\n",
              "        <td>CCAFS LC-40</td>\n",
              "    </tr>\n",
              "    <tr>\n",
              "        <td>VAFB SLC-4E</td>\n",
              "    </tr>\n",
              "    <tr>\n",
              "        <td>KSC LC-39A</td>\n",
              "    </tr>\n",
              "    <tr>\n",
              "        <td>CCAFS SLC-40</td>\n",
              "    </tr>\n",
              "    <tr>\n",
              "        <td>None</td>\n",
              "    </tr>\n",
              "</table>"
            ]
          },
          "metadata": {},
          "execution_count": 9
        }
      ]
    },
    {
      "cell_type": "code",
      "source": [
        "#display 5 record where launch site beign with string 'CCA'\n",
        "\n",
        "%sql SELECT * FROM SPACEXTBL WHERE \"Launch_Site\" LIKE 'CCA%' LIMIT 5"
      ],
      "metadata": {
        "colab": {
          "base_uri": "https://localhost:8080/",
          "height": 179
        },
        "id": "gGT1jkYRY1EW",
        "outputId": "29d232ab-897a-4ed6-a20a-c7ecf88d742c"
      },
      "execution_count": 10,
      "outputs": [
        {
          "output_type": "stream",
          "name": "stdout",
          "text": [
            " * sqlite:///my_data1.db\n",
            "Done.\n"
          ]
        },
        {
          "output_type": "execute_result",
          "data": {
            "text/plain": [
              "[('06/04/2010', '18:45:00', 'F9 v1.0  B0003', 'CCAFS LC-40', 'Dragon Spacecraft Qualification Unit', 0.0, 'LEO', 'SpaceX', 'Success', 'Failure (parachute)'),\n",
              " ('12/08/2010', '15:43:00', 'F9 v1.0  B0004', 'CCAFS LC-40', 'Dragon demo flight C1, two CubeSats, barrel of Brouere cheese', 0.0, 'LEO (ISS)', 'NASA (COTS) NRO', 'Success', 'Failure (parachute)'),\n",
              " ('22/05/2012', '7:44:00', 'F9 v1.0  B0005', 'CCAFS LC-40', 'Dragon demo flight C2', 525.0, 'LEO (ISS)', 'NASA (COTS)', 'Success', 'No attempt'),\n",
              " ('10/08/2012', '0:35:00', 'F9 v1.0  B0006', 'CCAFS LC-40', 'SpaceX CRS-1', 500.0, 'LEO (ISS)', 'NASA (CRS)', 'Success', 'No attempt'),\n",
              " ('03/01/2013', '15:10:00', 'F9 v1.0  B0007', 'CCAFS LC-40', 'SpaceX CRS-2', 677.0, 'LEO (ISS)', 'NASA (CRS)', 'Success', 'No attempt')]"
            ],
            "text/html": [
              "<table>\n",
              "    <tr>\n",
              "        <th>Date</th>\n",
              "        <th>Time (UTC)</th>\n",
              "        <th>Booster_Version</th>\n",
              "        <th>Launch_Site</th>\n",
              "        <th>Payload</th>\n",
              "        <th>PAYLOAD_MASS__KG_</th>\n",
              "        <th>Orbit</th>\n",
              "        <th>Customer</th>\n",
              "        <th>Mission_Outcome</th>\n",
              "        <th>Landing_Outcome</th>\n",
              "    </tr>\n",
              "    <tr>\n",
              "        <td>06/04/2010</td>\n",
              "        <td>18:45:00</td>\n",
              "        <td>F9 v1.0  B0003</td>\n",
              "        <td>CCAFS LC-40</td>\n",
              "        <td>Dragon Spacecraft Qualification Unit</td>\n",
              "        <td>0.0</td>\n",
              "        <td>LEO</td>\n",
              "        <td>SpaceX</td>\n",
              "        <td>Success</td>\n",
              "        <td>Failure (parachute)</td>\n",
              "    </tr>\n",
              "    <tr>\n",
              "        <td>12/08/2010</td>\n",
              "        <td>15:43:00</td>\n",
              "        <td>F9 v1.0  B0004</td>\n",
              "        <td>CCAFS LC-40</td>\n",
              "        <td>Dragon demo flight C1, two CubeSats, barrel of Brouere cheese</td>\n",
              "        <td>0.0</td>\n",
              "        <td>LEO (ISS)</td>\n",
              "        <td>NASA (COTS) NRO</td>\n",
              "        <td>Success</td>\n",
              "        <td>Failure (parachute)</td>\n",
              "    </tr>\n",
              "    <tr>\n",
              "        <td>22/05/2012</td>\n",
              "        <td>7:44:00</td>\n",
              "        <td>F9 v1.0  B0005</td>\n",
              "        <td>CCAFS LC-40</td>\n",
              "        <td>Dragon demo flight C2</td>\n",
              "        <td>525.0</td>\n",
              "        <td>LEO (ISS)</td>\n",
              "        <td>NASA (COTS)</td>\n",
              "        <td>Success</td>\n",
              "        <td>No attempt</td>\n",
              "    </tr>\n",
              "    <tr>\n",
              "        <td>10/08/2012</td>\n",
              "        <td>0:35:00</td>\n",
              "        <td>F9 v1.0  B0006</td>\n",
              "        <td>CCAFS LC-40</td>\n",
              "        <td>SpaceX CRS-1</td>\n",
              "        <td>500.0</td>\n",
              "        <td>LEO (ISS)</td>\n",
              "        <td>NASA (CRS)</td>\n",
              "        <td>Success</td>\n",
              "        <td>No attempt</td>\n",
              "    </tr>\n",
              "    <tr>\n",
              "        <td>03/01/2013</td>\n",
              "        <td>15:10:00</td>\n",
              "        <td>F9 v1.0  B0007</td>\n",
              "        <td>CCAFS LC-40</td>\n",
              "        <td>SpaceX CRS-2</td>\n",
              "        <td>677.0</td>\n",
              "        <td>LEO (ISS)</td>\n",
              "        <td>NASA (CRS)</td>\n",
              "        <td>Success</td>\n",
              "        <td>No attempt</td>\n",
              "    </tr>\n",
              "</table>"
            ]
          },
          "metadata": {},
          "execution_count": 10
        }
      ]
    },
    {
      "cell_type": "code",
      "source": [
        "#display total payload mass carried by boosters launched by NASA (CRS)\n",
        "\n",
        "%sql SELECT SUM(PAYLOAD_MASS__KG_)FROM SPACEXTBL WHERE \"Customer\" LIKE 'NASA (CRS)%'"
      ],
      "metadata": {
        "colab": {
          "base_uri": "https://localhost:8080/",
          "height": 95
        },
        "id": "b1PCAP8kY2IT",
        "outputId": "dfa5fbf2-db81-49da-94ed-0b293629de9e"
      },
      "execution_count": 11,
      "outputs": [
        {
          "output_type": "stream",
          "name": "stdout",
          "text": [
            " * sqlite:///my_data1.db\n",
            "Done.\n"
          ]
        },
        {
          "output_type": "execute_result",
          "data": {
            "text/plain": [
              "[(48213.0,)]"
            ],
            "text/html": [
              "<table>\n",
              "    <tr>\n",
              "        <th>SUM(PAYLOAD_MASS__KG_)</th>\n",
              "    </tr>\n",
              "    <tr>\n",
              "        <td>48213.0</td>\n",
              "    </tr>\n",
              "</table>"
            ]
          },
          "metadata": {},
          "execution_count": 11
        }
      ]
    },
    {
      "cell_type": "code",
      "source": [
        "# Display average payload mass carried by booster version F9 v1.1\n",
        "\n",
        "%sql SELECT AVG(PAYLOAD_MASS__KG_)FROM SPACEXTBL WHERE \"Booster_Version\" LIKE 'F9 v1.1%'"
      ],
      "metadata": {
        "colab": {
          "base_uri": "https://localhost:8080/",
          "height": 95
        },
        "id": "Gi1Io2UuY3ZW",
        "outputId": "ea9efc2b-9564-433f-ceb4-06881921fca7"
      },
      "execution_count": 12,
      "outputs": [
        {
          "output_type": "stream",
          "name": "stdout",
          "text": [
            " * sqlite:///my_data1.db\n",
            "Done.\n"
          ]
        },
        {
          "output_type": "execute_result",
          "data": {
            "text/plain": [
              "[(2534.6666666666665,)]"
            ],
            "text/html": [
              "<table>\n",
              "    <tr>\n",
              "        <th>AVG(PAYLOAD_MASS__KG_)</th>\n",
              "    </tr>\n",
              "    <tr>\n",
              "        <td>2534.6666666666665</td>\n",
              "    </tr>\n",
              "</table>"
            ]
          },
          "metadata": {},
          "execution_count": 12
        }
      ]
    },
    {
      "cell_type": "code",
      "source": [
        "## List the date when the first succesful landing outcome in ground pad was acheived.\n",
        "\n",
        "%sql SELECT * FROM SPACEXTBL WHERE \"Landing_Outcome\" LIKE \"Success (ground pad)%\" ORDER BY Date ASC LIMIT 1"
      ],
      "metadata": {
        "colab": {
          "base_uri": "https://localhost:8080/",
          "height": 95
        },
        "id": "Vqy8avjtY4s5",
        "outputId": "a29c1bee-7cda-469c-ac97-dbc4d17b719c"
      },
      "execution_count": 13,
      "outputs": [
        {
          "output_type": "stream",
          "name": "stdout",
          "text": [
            " * sqlite:///my_data1.db\n",
            "Done.\n"
          ]
        },
        {
          "output_type": "execute_result",
          "data": {
            "text/plain": [
              "[('01/08/2018', '1:00:00', 'F9 B4 B1043.1', 'CCAFS SLC-40', 'Zuma', 5000.0, 'LEO', 'Northrop Grumman', 'Success (payload status unclear)', 'Success (ground pad)')]"
            ],
            "text/html": [
              "<table>\n",
              "    <tr>\n",
              "        <th>Date</th>\n",
              "        <th>Time (UTC)</th>\n",
              "        <th>Booster_Version</th>\n",
              "        <th>Launch_Site</th>\n",
              "        <th>Payload</th>\n",
              "        <th>PAYLOAD_MASS__KG_</th>\n",
              "        <th>Orbit</th>\n",
              "        <th>Customer</th>\n",
              "        <th>Mission_Outcome</th>\n",
              "        <th>Landing_Outcome</th>\n",
              "    </tr>\n",
              "    <tr>\n",
              "        <td>01/08/2018</td>\n",
              "        <td>1:00:00</td>\n",
              "        <td>F9 B4 B1043.1</td>\n",
              "        <td>CCAFS SLC-40</td>\n",
              "        <td>Zuma</td>\n",
              "        <td>5000.0</td>\n",
              "        <td>LEO</td>\n",
              "        <td>Northrop Grumman</td>\n",
              "        <td>Success (payload status unclear)</td>\n",
              "        <td>Success (ground pad)</td>\n",
              "    </tr>\n",
              "</table>"
            ]
          },
          "metadata": {},
          "execution_count": 13
        }
      ]
    },
    {
      "cell_type": "code",
      "source": [
        "# List the names of the boosters which have success in drone ship and have payload mass greater than 4000 but less than 6000\n",
        "%sql SELECT *FROM SPACEXTBL WHERE \"Landing_Outcome\" LIKE \"Success (drone ship)%\" AND \"PAYLOAD_MASS__KG_\" > 4000 AND \"PAYLOAD_MASS__KG_\" < 6000"
      ],
      "metadata": {
        "colab": {
          "base_uri": "https://localhost:8080/",
          "height": 158
        },
        "id": "PYM2qYorY6yT",
        "outputId": "99d38f29-eff3-49ad-de3f-874676c2dd23"
      },
      "execution_count": 14,
      "outputs": [
        {
          "output_type": "stream",
          "name": "stdout",
          "text": [
            " * sqlite:///my_data1.db\n",
            "Done.\n"
          ]
        },
        {
          "output_type": "execute_result",
          "data": {
            "text/plain": [
              "[('05/06/2016', '5:21:00', 'F9 FT B1022', 'CCAFS LC-40', 'JCSAT-14', 4696.0, 'GTO', 'SKY Perfect JSAT Group', 'Success', 'Success (drone ship)'),\n",
              " ('14/08/2016', '5:26:00', 'F9 FT B1026', 'CCAFS LC-40', 'JCSAT-16', 4600.0, 'GTO', 'SKY Perfect JSAT Group', 'Success', 'Success (drone ship)'),\n",
              " ('30/03/2017', '22:27:00', 'F9 FT  B1021.2', 'KSC LC-39A', 'SES-10', 5300.0, 'GTO', 'SES', 'Success', 'Success (drone ship)'),\n",
              " ('10/11/2017', '22:53:00', 'F9 FT  B1031.2', 'KSC LC-39A', 'SES-11 / EchoStar 105', 5200.0, 'GTO', 'SES EchoStar', 'Success', 'Success (drone ship)')]"
            ],
            "text/html": [
              "<table>\n",
              "    <tr>\n",
              "        <th>Date</th>\n",
              "        <th>Time (UTC)</th>\n",
              "        <th>Booster_Version</th>\n",
              "        <th>Launch_Site</th>\n",
              "        <th>Payload</th>\n",
              "        <th>PAYLOAD_MASS__KG_</th>\n",
              "        <th>Orbit</th>\n",
              "        <th>Customer</th>\n",
              "        <th>Mission_Outcome</th>\n",
              "        <th>Landing_Outcome</th>\n",
              "    </tr>\n",
              "    <tr>\n",
              "        <td>05/06/2016</td>\n",
              "        <td>5:21:00</td>\n",
              "        <td>F9 FT B1022</td>\n",
              "        <td>CCAFS LC-40</td>\n",
              "        <td>JCSAT-14</td>\n",
              "        <td>4696.0</td>\n",
              "        <td>GTO</td>\n",
              "        <td>SKY Perfect JSAT Group</td>\n",
              "        <td>Success</td>\n",
              "        <td>Success (drone ship)</td>\n",
              "    </tr>\n",
              "    <tr>\n",
              "        <td>14/08/2016</td>\n",
              "        <td>5:26:00</td>\n",
              "        <td>F9 FT B1026</td>\n",
              "        <td>CCAFS LC-40</td>\n",
              "        <td>JCSAT-16</td>\n",
              "        <td>4600.0</td>\n",
              "        <td>GTO</td>\n",
              "        <td>SKY Perfect JSAT Group</td>\n",
              "        <td>Success</td>\n",
              "        <td>Success (drone ship)</td>\n",
              "    </tr>\n",
              "    <tr>\n",
              "        <td>30/03/2017</td>\n",
              "        <td>22:27:00</td>\n",
              "        <td>F9 FT  B1021.2</td>\n",
              "        <td>KSC LC-39A</td>\n",
              "        <td>SES-10</td>\n",
              "        <td>5300.0</td>\n",
              "        <td>GTO</td>\n",
              "        <td>SES</td>\n",
              "        <td>Success</td>\n",
              "        <td>Success (drone ship)</td>\n",
              "    </tr>\n",
              "    <tr>\n",
              "        <td>10/11/2017</td>\n",
              "        <td>22:53:00</td>\n",
              "        <td>F9 FT  B1031.2</td>\n",
              "        <td>KSC LC-39A</td>\n",
              "        <td>SES-11 / EchoStar 105</td>\n",
              "        <td>5200.0</td>\n",
              "        <td>GTO</td>\n",
              "        <td>SES EchoStar</td>\n",
              "        <td>Success</td>\n",
              "        <td>Success (drone ship)</td>\n",
              "    </tr>\n",
              "</table>"
            ]
          },
          "metadata": {},
          "execution_count": 14
        }
      ]
    },
    {
      "cell_type": "code",
      "source": [
        "# List the total number of successful and failure mission outcomes\n",
        "\n",
        "%sql SELECT SUM(CASE WHEN Mission_Outcome = 'Success' THEN 1 ELSE 0 END) AS Mission_Outcome_Total, SUM(CASE WHEN Mission_Outcome = 'Failure' THEN 1 ELSE 0 END) AS Mission_Outcome_Total FROM SPACEXTBL"
      ],
      "metadata": {
        "colab": {
          "base_uri": "https://localhost:8080/",
          "height": 95
        },
        "id": "W0YnfayLY72M",
        "outputId": "e5b4608a-63ca-4e87-f5d0-17bcfff56f58"
      },
      "execution_count": 15,
      "outputs": [
        {
          "output_type": "stream",
          "name": "stdout",
          "text": [
            " * sqlite:///my_data1.db\n",
            "Done.\n"
          ]
        },
        {
          "output_type": "execute_result",
          "data": {
            "text/plain": [
              "[(98, 0)]"
            ],
            "text/html": [
              "<table>\n",
              "    <tr>\n",
              "        <th>Mission_Outcome_Total</th>\n",
              "        <th>Mission_Outcome_Total_1</th>\n",
              "    </tr>\n",
              "    <tr>\n",
              "        <td>98</td>\n",
              "        <td>0</td>\n",
              "    </tr>\n",
              "</table>"
            ]
          },
          "metadata": {},
          "execution_count": 15
        }
      ]
    },
    {
      "cell_type": "code",
      "source": [
        "# List the   names of the booster_versions which have carried the maximum payload mass. Use a subquery\n",
        "#%sql SELECT MAX(PAYLOAD_MASS__KG_\t)FROM SPACEXTBL\n",
        "%sql SELECT *FROM SPACEXTBL WHERE PAYLOAD_MASS__KG_ = 15600\n"
      ],
      "metadata": {
        "colab": {
          "base_uri": "https://localhost:8080/",
          "height": 326
        },
        "id": "yhptAls_Y-gu",
        "outputId": "e69ff6c2-08eb-43c7-93c2-d83ccf742ddc"
      },
      "execution_count": 16,
      "outputs": [
        {
          "output_type": "stream",
          "name": "stdout",
          "text": [
            " * sqlite:///my_data1.db\n",
            "Done.\n"
          ]
        },
        {
          "output_type": "execute_result",
          "data": {
            "text/plain": [
              "[('11/11/2019', '14:56:00', 'F9 B5 B1048.4', 'CCAFS SLC-40', 'Starlink 1 v1.0, SpaceX CRS-19 ', 15600.0, 'LEO', 'SpaceX', 'Success', 'Success'),\n",
              " ('01/07/2020', '2:33:00', 'F9 B5 B1049.4', 'CCAFS SLC-40', 'Starlink 2 v1.0, Crew Dragon in-flight abort test ', 15600.0, 'LEO', 'SpaceX', 'Success', 'Success'),\n",
              " ('29/01/2020', '14:07:00', 'F9 B5 B1051.3', 'CCAFS SLC-40', 'Starlink 3 v1.0, Starlink 4 v1.0 ', 15600.0, 'LEO', 'SpaceX', 'Success', 'Success'),\n",
              " ('17/02/2020', '15:05:00', 'F9 B5 B1056.4', 'CCAFS SLC-40', 'Starlink 4 v1.0, SpaceX CRS-20', 15600.0, 'LEO', 'SpaceX', 'Success', 'Failure'),\n",
              " ('18/03/2020', '12:16:00', 'F9 B5 B1048.5', 'KSC LC-39A', 'Starlink 5 v1.0, Starlink 6 v1.0 ', 15600.0, 'LEO', 'SpaceX', 'Success', 'Failure'),\n",
              " ('22/04/2020', '19:30:00', 'F9 B5 B1051.4', 'KSC LC-39A', 'Starlink 6 v1.0, Crew Dragon Demo-2 ', 15600.0, 'LEO', 'SpaceX', 'Success', 'Success'),\n",
              " ('06/04/2020', '1:25:00', 'F9 B5 B1049.5', 'CCAFS SLC-40', 'Starlink 7 v1.0, Starlink 8 v1.0', 15600.0, 'LEO', 'SpaceX, Planet Labs', 'Success', 'Success'),\n",
              " ('09/03/2020', '12:46:14', 'F9 B5 B1060.2 ', 'KSC LC-39A', 'Starlink 11 v1.0, Starlink 12 v1.0 ', 15600.0, 'LEO', 'SpaceX', 'Success', 'Success'),\n",
              " ('10/06/2020', '11:29:34', 'F9 B5 B1058.3 ', 'KSC LC-39A', 'Starlink 12 v1.0, Starlink 13 v1.0 ', 15600.0, 'LEO', 'SpaceX', 'Success', 'Success'),\n",
              " ('18/10/2020', '12:25:57', 'F9 B5 B1051.6', 'KSC LC-39A', 'Starlink 13 v1.0, Starlink 14 v1.0 ', 15600.0, 'LEO', 'SpaceX', 'Success', 'Success'),\n",
              " ('24/10/2020', '15:31:34', 'F9 B5 B1060.3', 'CCAFS SLC-40', 'Starlink 14 v1.0, GPS III-04  ', 15600.0, 'LEO', 'SpaceX', 'Success', 'Success'),\n",
              " ('25/11/2020', '2:13:00', 'F9 B5 B1049.7 ', 'CCAFS SLC-40', 'Starlink 15 v1.0, SpaceX CRS-21', 15600.0, 'LEO', 'SpaceX', 'Success', 'Success')]"
            ],
            "text/html": [
              "<table>\n",
              "    <tr>\n",
              "        <th>Date</th>\n",
              "        <th>Time (UTC)</th>\n",
              "        <th>Booster_Version</th>\n",
              "        <th>Launch_Site</th>\n",
              "        <th>Payload</th>\n",
              "        <th>PAYLOAD_MASS__KG_</th>\n",
              "        <th>Orbit</th>\n",
              "        <th>Customer</th>\n",
              "        <th>Mission_Outcome</th>\n",
              "        <th>Landing_Outcome</th>\n",
              "    </tr>\n",
              "    <tr>\n",
              "        <td>11/11/2019</td>\n",
              "        <td>14:56:00</td>\n",
              "        <td>F9 B5 B1048.4</td>\n",
              "        <td>CCAFS SLC-40</td>\n",
              "        <td>Starlink 1 v1.0, SpaceX CRS-19 </td>\n",
              "        <td>15600.0</td>\n",
              "        <td>LEO</td>\n",
              "        <td>SpaceX</td>\n",
              "        <td>Success</td>\n",
              "        <td>Success</td>\n",
              "    </tr>\n",
              "    <tr>\n",
              "        <td>01/07/2020</td>\n",
              "        <td>2:33:00</td>\n",
              "        <td>F9 B5 B1049.4</td>\n",
              "        <td>CCAFS SLC-40</td>\n",
              "        <td>Starlink 2 v1.0, Crew Dragon in-flight abort test </td>\n",
              "        <td>15600.0</td>\n",
              "        <td>LEO</td>\n",
              "        <td>SpaceX</td>\n",
              "        <td>Success</td>\n",
              "        <td>Success</td>\n",
              "    </tr>\n",
              "    <tr>\n",
              "        <td>29/01/2020</td>\n",
              "        <td>14:07:00</td>\n",
              "        <td>F9 B5 B1051.3</td>\n",
              "        <td>CCAFS SLC-40</td>\n",
              "        <td>Starlink 3 v1.0, Starlink 4 v1.0 </td>\n",
              "        <td>15600.0</td>\n",
              "        <td>LEO</td>\n",
              "        <td>SpaceX</td>\n",
              "        <td>Success</td>\n",
              "        <td>Success</td>\n",
              "    </tr>\n",
              "    <tr>\n",
              "        <td>17/02/2020</td>\n",
              "        <td>15:05:00</td>\n",
              "        <td>F9 B5 B1056.4</td>\n",
              "        <td>CCAFS SLC-40</td>\n",
              "        <td>Starlink 4 v1.0, SpaceX CRS-20</td>\n",
              "        <td>15600.0</td>\n",
              "        <td>LEO</td>\n",
              "        <td>SpaceX</td>\n",
              "        <td>Success</td>\n",
              "        <td>Failure</td>\n",
              "    </tr>\n",
              "    <tr>\n",
              "        <td>18/03/2020</td>\n",
              "        <td>12:16:00</td>\n",
              "        <td>F9 B5 B1048.5</td>\n",
              "        <td>KSC LC-39A</td>\n",
              "        <td>Starlink 5 v1.0, Starlink 6 v1.0 </td>\n",
              "        <td>15600.0</td>\n",
              "        <td>LEO</td>\n",
              "        <td>SpaceX</td>\n",
              "        <td>Success</td>\n",
              "        <td>Failure</td>\n",
              "    </tr>\n",
              "    <tr>\n",
              "        <td>22/04/2020</td>\n",
              "        <td>19:30:00</td>\n",
              "        <td>F9 B5 B1051.4</td>\n",
              "        <td>KSC LC-39A</td>\n",
              "        <td>Starlink 6 v1.0, Crew Dragon Demo-2 </td>\n",
              "        <td>15600.0</td>\n",
              "        <td>LEO</td>\n",
              "        <td>SpaceX</td>\n",
              "        <td>Success</td>\n",
              "        <td>Success</td>\n",
              "    </tr>\n",
              "    <tr>\n",
              "        <td>06/04/2020</td>\n",
              "        <td>1:25:00</td>\n",
              "        <td>F9 B5 B1049.5</td>\n",
              "        <td>CCAFS SLC-40</td>\n",
              "        <td>Starlink 7 v1.0, Starlink 8 v1.0</td>\n",
              "        <td>15600.0</td>\n",
              "        <td>LEO</td>\n",
              "        <td>SpaceX, Planet Labs</td>\n",
              "        <td>Success</td>\n",
              "        <td>Success</td>\n",
              "    </tr>\n",
              "    <tr>\n",
              "        <td>09/03/2020</td>\n",
              "        <td>12:46:14</td>\n",
              "        <td>F9 B5 B1060.2 </td>\n",
              "        <td>KSC LC-39A</td>\n",
              "        <td>Starlink 11 v1.0, Starlink 12 v1.0 </td>\n",
              "        <td>15600.0</td>\n",
              "        <td>LEO</td>\n",
              "        <td>SpaceX</td>\n",
              "        <td>Success</td>\n",
              "        <td>Success</td>\n",
              "    </tr>\n",
              "    <tr>\n",
              "        <td>10/06/2020</td>\n",
              "        <td>11:29:34</td>\n",
              "        <td>F9 B5 B1058.3 </td>\n",
              "        <td>KSC LC-39A</td>\n",
              "        <td>Starlink 12 v1.0, Starlink 13 v1.0 </td>\n",
              "        <td>15600.0</td>\n",
              "        <td>LEO</td>\n",
              "        <td>SpaceX</td>\n",
              "        <td>Success</td>\n",
              "        <td>Success</td>\n",
              "    </tr>\n",
              "    <tr>\n",
              "        <td>18/10/2020</td>\n",
              "        <td>12:25:57</td>\n",
              "        <td>F9 B5 B1051.6</td>\n",
              "        <td>KSC LC-39A</td>\n",
              "        <td>Starlink 13 v1.0, Starlink 14 v1.0 </td>\n",
              "        <td>15600.0</td>\n",
              "        <td>LEO</td>\n",
              "        <td>SpaceX</td>\n",
              "        <td>Success</td>\n",
              "        <td>Success</td>\n",
              "    </tr>\n",
              "    <tr>\n",
              "        <td>24/10/2020</td>\n",
              "        <td>15:31:34</td>\n",
              "        <td>F9 B5 B1060.3</td>\n",
              "        <td>CCAFS SLC-40</td>\n",
              "        <td>Starlink 14 v1.0, GPS III-04  </td>\n",
              "        <td>15600.0</td>\n",
              "        <td>LEO</td>\n",
              "        <td>SpaceX</td>\n",
              "        <td>Success</td>\n",
              "        <td>Success</td>\n",
              "    </tr>\n",
              "    <tr>\n",
              "        <td>25/11/2020</td>\n",
              "        <td>2:13:00</td>\n",
              "        <td>F9 B5 B1049.7 </td>\n",
              "        <td>CCAFS SLC-40</td>\n",
              "        <td>Starlink 15 v1.0, SpaceX CRS-21</td>\n",
              "        <td>15600.0</td>\n",
              "        <td>LEO</td>\n",
              "        <td>SpaceX</td>\n",
              "        <td>Success</td>\n",
              "        <td>Success</td>\n",
              "    </tr>\n",
              "</table>"
            ]
          },
          "metadata": {},
          "execution_count": 16
        }
      ]
    },
    {
      "cell_type": "code",
      "source": [
        "# List the records which will display the month names, failure landing_outcomes in drone ship ,booster versions, launch_site for the months in year 2015.\n",
        "\n",
        "#**Note: SQLLite does not support monthnames. So you need to use  substr(Date, 4, 2) as month to get the months and substr(Date,7,4)='2015' for year.**\n",
        "\n",
        "%sql SELECT substr(Date, 4, 2) as month,booster_version,\"Landing _Outcome\" from SPACEXTBL where \"Landing _Outcome\" ='Failure (drone ship)' and substr(Date,7,4)='2015'"
      ],
      "metadata": {
        "colab": {
          "base_uri": "https://localhost:8080/",
          "height": 74
        },
        "id": "3eTrNdbwY_vI",
        "outputId": "d0b9a600-957d-4dd0-c1ef-8a93100ae99a"
      },
      "execution_count": 17,
      "outputs": [
        {
          "output_type": "stream",
          "name": "stdout",
          "text": [
            " * sqlite:///my_data1.db\n",
            "Done.\n"
          ]
        },
        {
          "output_type": "execute_result",
          "data": {
            "text/plain": [
              "[]"
            ],
            "text/html": [
              "<table>\n",
              "    <tr>\n",
              "        <th>month</th>\n",
              "        <th>Booster_Version</th>\n",
              "        <th>&quot;Landing _Outcome&quot;</th>\n",
              "    </tr>\n",
              "</table>"
            ]
          },
          "metadata": {},
          "execution_count": 17
        }
      ]
    },
    {
      "cell_type": "code",
      "source": [
        "# Rank the  count of  successful landing_outcomes between the date 04-06-2010 and 20-03-2017 in descending order.\n",
        "%sql SELECT \"Landing_Outcome\",count(\"Landing_Outcome\")as LANDING_OUTCOME_COUNT, DATE FROM SPACEXTBL WHERE substr(Date,7,4) || substr(Date, 4, 2) BETWEEN '20100604' AND '20170320' GROUP BY \"Landing_Outcome\" ORDER BY COUNT(\"Landing_Outcome\") desc"
      ],
      "metadata": {
        "colab": {
          "base_uri": "https://localhost:8080/",
          "height": 242
        },
        "id": "M2iIjy1QZBNM",
        "outputId": "da3d0c41-fceb-4a83-e5a5-a9eb4411bff8"
      },
      "execution_count": 18,
      "outputs": [
        {
          "output_type": "stream",
          "name": "stdout",
          "text": [
            " * sqlite:///my_data1.db\n",
            "Done.\n"
          ]
        },
        {
          "output_type": "execute_result",
          "data": {
            "text/plain": [
              "[('No attempt', 10, '22/05/2012'),\n",
              " ('Success (drone ship)', 6, '04/08/2016'),\n",
              " ('Success (ground pad)', 5, '22/12/2015'),\n",
              " ('Failure (drone ship)', 5, '01/10/2015'),\n",
              " ('Controlled (ocean)', 3, '18/04/2014'),\n",
              " ('Uncontrolled (ocean)', 2, '29/09/2013'),\n",
              " ('Precluded (drone ship)', 1, '28/06/2015'),\n",
              " ('Failure (parachute)', 1, '12/08/2010')]"
            ],
            "text/html": [
              "<table>\n",
              "    <tr>\n",
              "        <th>Landing_Outcome</th>\n",
              "        <th>LANDING_OUTCOME_COUNT</th>\n",
              "        <th>Date</th>\n",
              "    </tr>\n",
              "    <tr>\n",
              "        <td>No attempt</td>\n",
              "        <td>10</td>\n",
              "        <td>22/05/2012</td>\n",
              "    </tr>\n",
              "    <tr>\n",
              "        <td>Success (drone ship)</td>\n",
              "        <td>6</td>\n",
              "        <td>04/08/2016</td>\n",
              "    </tr>\n",
              "    <tr>\n",
              "        <td>Success (ground pad)</td>\n",
              "        <td>5</td>\n",
              "        <td>22/12/2015</td>\n",
              "    </tr>\n",
              "    <tr>\n",
              "        <td>Failure (drone ship)</td>\n",
              "        <td>5</td>\n",
              "        <td>01/10/2015</td>\n",
              "    </tr>\n",
              "    <tr>\n",
              "        <td>Controlled (ocean)</td>\n",
              "        <td>3</td>\n",
              "        <td>18/04/2014</td>\n",
              "    </tr>\n",
              "    <tr>\n",
              "        <td>Uncontrolled (ocean)</td>\n",
              "        <td>2</td>\n",
              "        <td>29/09/2013</td>\n",
              "    </tr>\n",
              "    <tr>\n",
              "        <td>Precluded (drone ship)</td>\n",
              "        <td>1</td>\n",
              "        <td>28/06/2015</td>\n",
              "    </tr>\n",
              "    <tr>\n",
              "        <td>Failure (parachute)</td>\n",
              "        <td>1</td>\n",
              "        <td>12/08/2010</td>\n",
              "    </tr>\n",
              "</table>"
            ]
          },
          "metadata": {},
          "execution_count": 18
        }
      ]
    },
    {
      "cell_type": "code",
      "source": [
        "%sql SELECT PAYLOAD_MASS__KG_ FROM SPACEXTBL ORDER BY payload_mass__kg_ DESC LIMIT 1"
      ],
      "metadata": {
        "colab": {
          "base_uri": "https://localhost:8080/",
          "height": 95
        },
        "id": "TKlLMqZkZF-K",
        "outputId": "57e7fcc6-a185-4e80-8463-b02f9d67c652"
      },
      "execution_count": 19,
      "outputs": [
        {
          "output_type": "stream",
          "name": "stdout",
          "text": [
            " * sqlite:///my_data1.db\n",
            "Done.\n"
          ]
        },
        {
          "output_type": "execute_result",
          "data": {
            "text/plain": [
              "[(15600.0,)]"
            ],
            "text/html": [
              "<table>\n",
              "    <tr>\n",
              "        <th>PAYLOAD_MASS__KG_</th>\n",
              "    </tr>\n",
              "    <tr>\n",
              "        <td>15600.0</td>\n",
              "    </tr>\n",
              "</table>"
            ]
          },
          "metadata": {},
          "execution_count": 19
        }
      ]
    },
    {
      "cell_type": "code",
      "source": [
        "%sql select  count(\"Mission_Outcome\") as MISSION_OUTCOME_COUNT,Launch_Site  from SPACEXTBL group by Launch_Site"
      ],
      "metadata": {
        "colab": {
          "base_uri": "https://localhost:8080/",
          "height": 179
        },
        "id": "VDTRJ2hLZIa4",
        "outputId": "ddbd9be8-0acf-4a4d-f9ad-0068cae4c0c5"
      },
      "execution_count": 20,
      "outputs": [
        {
          "output_type": "stream",
          "name": "stdout",
          "text": [
            " * sqlite:///my_data1.db\n",
            "Done.\n"
          ]
        },
        {
          "output_type": "execute_result",
          "data": {
            "text/plain": [
              "[(0, None),\n",
              " (26, 'CCAFS LC-40'),\n",
              " (34, 'CCAFS SLC-40'),\n",
              " (25, 'KSC LC-39A'),\n",
              " (16, 'VAFB SLC-4E')]"
            ],
            "text/html": [
              "<table>\n",
              "    <tr>\n",
              "        <th>MISSION_OUTCOME_COUNT</th>\n",
              "        <th>Launch_Site</th>\n",
              "    </tr>\n",
              "    <tr>\n",
              "        <td>0</td>\n",
              "        <td>None</td>\n",
              "    </tr>\n",
              "    <tr>\n",
              "        <td>26</td>\n",
              "        <td>CCAFS LC-40</td>\n",
              "    </tr>\n",
              "    <tr>\n",
              "        <td>34</td>\n",
              "        <td>CCAFS SLC-40</td>\n",
              "    </tr>\n",
              "    <tr>\n",
              "        <td>25</td>\n",
              "        <td>KSC LC-39A</td>\n",
              "    </tr>\n",
              "    <tr>\n",
              "        <td>16</td>\n",
              "        <td>VAFB SLC-4E</td>\n",
              "    </tr>\n",
              "</table>"
            ]
          },
          "metadata": {},
          "execution_count": 20
        }
      ]
    },
    {
      "cell_type": "code",
      "source": [
        "%sql select payload_mass__kg_ from SPACEXTBL LIMIT 5"
      ],
      "metadata": {
        "colab": {
          "base_uri": "https://localhost:8080/",
          "height": 179
        },
        "id": "FBu-IhtlZJm8",
        "outputId": "b3de346e-d321-449a-8e6a-464bb60e4321"
      },
      "execution_count": 21,
      "outputs": [
        {
          "output_type": "stream",
          "name": "stdout",
          "text": [
            " * sqlite:///my_data1.db\n",
            "Done.\n"
          ]
        },
        {
          "output_type": "execute_result",
          "data": {
            "text/plain": [
              "[(0.0,), (0.0,), (525.0,), (500.0,), (677.0,)]"
            ],
            "text/html": [
              "<table>\n",
              "    <tr>\n",
              "        <th>PAYLOAD_MASS__KG_</th>\n",
              "    </tr>\n",
              "    <tr>\n",
              "        <td>0.0</td>\n",
              "    </tr>\n",
              "    <tr>\n",
              "        <td>0.0</td>\n",
              "    </tr>\n",
              "    <tr>\n",
              "        <td>525.0</td>\n",
              "    </tr>\n",
              "    <tr>\n",
              "        <td>500.0</td>\n",
              "    </tr>\n",
              "    <tr>\n",
              "        <td>677.0</td>\n",
              "    </tr>\n",
              "</table>"
            ]
          },
          "metadata": {},
          "execution_count": 21
        }
      ]
    },
    {
      "cell_type": "code",
      "source": [
        "%sql select min(payload_mass__kg_) from SPACEXTBL"
      ],
      "metadata": {
        "colab": {
          "base_uri": "https://localhost:8080/",
          "height": 95
        },
        "id": "i1q2nMRSZMHY",
        "outputId": "8bb08d6e-b489-4931-edd2-cb29f4362055"
      },
      "execution_count": 22,
      "outputs": [
        {
          "output_type": "stream",
          "name": "stdout",
          "text": [
            " * sqlite:///my_data1.db\n",
            "Done.\n"
          ]
        },
        {
          "output_type": "execute_result",
          "data": {
            "text/plain": [
              "[(0.0,)]"
            ],
            "text/html": [
              "<table>\n",
              "    <tr>\n",
              "        <th>min(payload_mass__kg_)</th>\n",
              "    </tr>\n",
              "    <tr>\n",
              "        <td>0.0</td>\n",
              "    </tr>\n",
              "</table>"
            ]
          },
          "metadata": {},
          "execution_count": 22
        }
      ]
    },
    {
      "cell_type": "code",
      "source": [],
      "metadata": {
        "id": "0bHaKumlZY3V"
      },
      "execution_count": null,
      "outputs": []
    }
  ]
}